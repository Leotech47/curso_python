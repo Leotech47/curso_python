{
  "nbformat": 4,
  "nbformat_minor": 0,
  "metadata": {
    "colab": {
      "provenance": [],
      "authorship_tag": "ABX9TyNLsRhRiM1wI7rcRWmGsfh1",
      "include_colab_link": true
    },
    "kernelspec": {
      "name": "python3",
      "display_name": "Python 3"
    },
    "language_info": {
      "name": "python"
    }
  },
  "cells": [
    {
      "cell_type": "markdown",
      "metadata": {
        "id": "view-in-github",
        "colab_type": "text"
      },
      "source": [
        "<a href=\"https://colab.research.google.com/github/Leotech47/curso_python/blob/main/iterador.ipynb\" target=\"_parent\"><img src=\"https://colab.research.google.com/assets/colab-badge.svg\" alt=\"Open In Colab\"/></a>"
      ]
    },
    {
      "cell_type": "code",
      "execution_count": 11,
      "metadata": {
        "colab": {
          "base_uri": "https://localhost:8080/"
        },
        "id": "WIH7UtzRhvhO",
        "outputId": "1d3813d4-2279-4f5c-ef75-7746f12ca594"
      },
      "outputs": [
        {
          "output_type": "stream",
          "name": "stdout",
          "text": [
            "10\n",
            "15\n",
            "30\n"
          ]
        }
      ],
      "source": [
        "class MeuIterador:\n",
        "  def __init__(self, numeros: list[int]):\n",
        "    self.numeros = numeros\n",
        "    self.indice = 0\n",
        "\n",
        "  def __iter__(self):\n",
        "    return self\n",
        "\n",
        "  def __next__(self):\n",
        "    try:\n",
        "      numero = self.numeros[self.indice]\n",
        "      self.indice += 1\n",
        "      return numero\n",
        "    except IndexError:\n",
        "      raise StopIteration\n",
        "\n",
        "\n",
        "for i in MeuIterador(numeros=[10, 15, 30]):\n",
        "  print(i)\n"
      ]
    }
  ]
}