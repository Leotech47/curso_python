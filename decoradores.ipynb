{
  "nbformat": 4,
  "nbformat_minor": 0,
  "metadata": {
    "colab": {
      "provenance": [],
      "authorship_tag": "ABX9TyPaKHKfGjatHynKOrK0wLbU",
      "include_colab_link": true
    },
    "kernelspec": {
      "name": "python3",
      "display_name": "Python 3"
    },
    "language_info": {
      "name": "python"
    }
  },
  "cells": [
    {
      "cell_type": "markdown",
      "metadata": {
        "id": "view-in-github",
        "colab_type": "text"
      },
      "source": [
        "<a href=\"https://colab.research.google.com/github/Leotech47/curso_python/blob/main/decoradores.ipynb\" target=\"_parent\"><img src=\"https://colab.research.google.com/assets/colab-badge.svg\" alt=\"Open In Colab\"/></a>"
      ]
    },
    {
      "cell_type": "markdown",
      "source": [
        "Decoradores em Python"
      ],
      "metadata": {
        "id": "DPV_z8w-psou"
      }
    },
    {
      "cell_type": "code",
      "execution_count": 1,
      "metadata": {
        "id": "I4L1q2KUpnkE",
        "outputId": "1bd55d89-36c9-4acd-c557-9050a643ec29",
        "colab": {
          "base_uri": "https://localhost:8080/"
        }
      },
      "outputs": [
        {
          "output_type": "stream",
          "name": "stdout",
          "text": [
            "Antes da função\n",
            "Depois da função\n",
            "7\n"
          ]
        }
      ],
      "source": [
        "def meu_decorador(func):\n",
        "  def wrapper(*args, **kwargs):\n",
        "    print(\"Antes da função\")\n",
        "    resultado = func(*args, **kwargs)\n",
        "    print(\"Depois da função\")\n",
        "    return resultado\n",
        "  return wrapper\n",
        "\n",
        "@meu_decorador\n",
        "def minha_funcao(x, y):\n",
        "  return x + y\n",
        "\n",
        "resultado = minha_funcao(3, 4)\n",
        "print(resultado)\n"
      ]
    },
    {
      "cell_type": "code",
      "source": [
        "def repete(num):\n",
        "    def decorador(func):\n",
        "        def wrapper(*args, **kwargs):\n",
        "            for _ in range(num):\n",
        "                func(*args, **kwargs)\n",
        "        return wrapper\n",
        "    return decorador\n",
        "\n",
        "@repete(3)\n",
        "def saudacao(nome):\n",
        "    print(f\"Olá, {nome}!\")\n",
        ""
      ],
      "metadata": {
        "id": "liXqrjfe3b8L"
      },
      "execution_count": null,
      "outputs": []
    }
  ]
}