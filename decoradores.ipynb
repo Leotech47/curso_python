{
  "nbformat": 4,
  "nbformat_minor": 0,
  "metadata": {
    "colab": {
      "provenance": [],
      "authorship_tag": "ABX9TyPpyn+NQajLsv+8VEseLsnw",
      "include_colab_link": true
    },
    "kernelspec": {
      "name": "python3",
      "display_name": "Python 3"
    },
    "language_info": {
      "name": "python"
    }
  },
  "cells": [
    {
      "cell_type": "markdown",
      "metadata": {
        "id": "view-in-github",
        "colab_type": "text"
      },
      "source": [
        "<a href=\"https://colab.research.google.com/github/Leotech47/curso_python/blob/main/decoradores.ipynb\" target=\"_parent\"><img src=\"https://colab.research.google.com/assets/colab-badge.svg\" alt=\"Open In Colab\"/></a>"
      ]
    },
    {
      "cell_type": "markdown",
      "source": [
        "Decoradores em Python"
      ],
      "metadata": {
        "id": "DPV_z8w-psou"
      }
    },
    {
      "cell_type": "code",
      "execution_count": null,
      "metadata": {
        "id": "I4L1q2KUpnkE"
      },
      "outputs": [],
      "source": [
        "def meu_decorador(func):\n",
        "  def wrapper(*args, **kwargs):\n",
        "    print(\"Antes da função\")\n",
        "    resultado = func(*args, **kwargs)\n",
        "    print(\"Depois da função\")\n",
        "    return resultado\n",
        "  return wrapper\n",
        "\n",
        "@meu_decorador\n",
        "def minha_funcao(x, y):\n",
        "  return x + y\n",
        "\n",
        "resultado = minha_funcao(3, 4)\n",
        "print(resultado)\n"
      ]
    }
  ]
}