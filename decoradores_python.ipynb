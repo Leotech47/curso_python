{
  "nbformat": 4,
  "nbformat_minor": 0,
  "metadata": {
    "colab": {
      "provenance": [],
      "authorship_tag": "ABX9TyNeD7WuKXxNdoEoXP5V+pfX",
      "include_colab_link": true
    },
    "kernelspec": {
      "name": "python3",
      "display_name": "Python 3"
    },
    "language_info": {
      "name": "python"
    }
  },
  "cells": [
    {
      "cell_type": "markdown",
      "metadata": {
        "id": "view-in-github",
        "colab_type": "text"
      },
      "source": [
        "<a href=\"https://colab.research.google.com/github/Leotech47/curso_python/blob/main/decoradores_python.ipynb\" target=\"_parent\"><img src=\"https://colab.research.google.com/assets/colab-badge.svg\" alt=\"Open In Colab\"/></a>"
      ]
    },
    {
      "cell_type": "markdown",
      "source": [
        "## Decoradores em Python: Uma Explicação Detalhada\n",
        "\n",
        "**O que são Decoradores?**\n",
        "\n",
        "Em Python, decoradores são uma ferramenta poderosa que permite modificar o comportamento de funções ou métodos sem alterar diretamente o seu código fonte. Eles são como \"envelopes\" que envolvem uma função, permitindo adicionar funcionalidades extras antes ou depois da execução da função original.\n",
        "\n",
        "**Como Funcionam?**\n",
        "\n",
        "1. **Funções como Objetos de Primeira Classe:** Em Python, funções são consideradas cidadãos de primeira classe. Isso significa que elas podem ser atribuídas a variáveis, passadas como argumentos para outras funções e até mesmo retornadas por funções.\n",
        "2. **Sintaxe:** A sintaxe básica para decorar uma função é:\n",
        "\n",
        "   ```python\n",
        "   @decorador\n",
        "   def minha_funcao():\n",
        "       # Código da minha função\n",
        "   ```\n",
        "\n",
        "   O `@decorador` acima da definição da função indica que `minha_funcao` será decorada pela função `decorador`.\n",
        "3. **Mecanismo:** O que acontece por trás dos panos é que o decorador é uma função que recebe a função a ser decorada como argumento e retorna uma nova função. Essa nova função é então atribuída ao nome original da função.\n",
        "\n",
        "**Exemplo Prático:**\n",
        "\n",
        "```python\n",
        "def meu_decorador(func):\n",
        "    def wrapper(*args, **kwargs):\n",
        "        print(\"Antes da função\")\n",
        "        resultado = func(*args, **kwargs)\n",
        "        print(\"Depois da função\")\n",
        "        return resultado\n",
        "    return wrapper\n",
        "\n",
        "@meu_decorador\n",
        "def minha_funcao(x, y):\n",
        "    return x + y\n",
        "\n",
        "resultado = minha_funcao(3, 4)\n",
        "print(resultado)\n",
        "```\n",
        "\n",
        "**Explicação do Exemplo:**\n",
        "\n",
        "* `meu_decorador` é uma função que recebe outra função como argumento.\n",
        "* `wrapper` é uma função interna que será retornada por `meu_decorador`.\n",
        "* `*args` e `**kwargs` permitem que `wrapper` aceite qualquer número de argumentos posicionais e nomeados, respectivamente.\n",
        "* `minha_funcao` é decorada por `meu_decorador`.\n",
        "* Quando `minha_funcao` é chamada, a função `wrapper` é executada primeiro, imprimindo \"Antes da função\", em seguida, chama a função original (`minha_funcao`) e imprime \"Depois da função\".\n",
        "\n",
        "**Usos Comuns de Decoradores:**\n",
        "\n",
        "* **Logging:** Registrar informações sobre a execução de uma função.\n",
        "* **Timing:** Medir o tempo de execução de uma função.\n",
        "* **Autenticação:** Verificar se um usuário está autenticado antes de executar uma função.\n",
        "* **Cache:** Armazenar o resultado de uma função para evitar recalcular o mesmo valor.\n",
        "* **Decoradores de classe:** Decorar classes para adicionar comportamentos.\n",
        "\n",
        "**Decoradores com Argumentos:**\n",
        "\n",
        "É possível criar decoradores que aceitam argumentos. Para isso, você cria uma função que retorna outra função, que é o decorador real.\n",
        "\n",
        "```python\n",
        "def repete(num):\n",
        "    def decorador(func):\n",
        "        def wrapper(*args, **kwargs):\n",
        "            for _ in range(num):\n",
        "                func(*args, **kwargs)\n",
        "        return wrapper\n",
        "    return decorador\n",
        "\n",
        "@repete(3)\n",
        "def saudacao(nome):\n",
        "    print(f\"Olá, {nome}!\")\n",
        "```\n",
        "\n",
        "**Considerações Adicionais:**\n",
        "\n",
        "* **Funções Decoradoras:** Decoradores podem ser funções simples ou classes.\n",
        "* **Ordem de Decoração:** A ordem em que os decoradores são aplicados a uma função importa.\n",
        "* **@wraps:** Para preservar informações sobre a função original (nome, docstring, etc.), use o decorador `@functools.wraps`.\n",
        "\n",
        "**Em Resumo:**\n",
        "\n",
        "Decoradores são uma ferramenta poderosa e versátil em Python que permitem adicionar funcionalidades a funções de forma elegante e concisa. Eles são amplamente utilizados em frameworks e bibliotecas para implementar padrões de design e resolver problemas comuns de programação.\n",
        "\n",
        "**Gostaria de ver mais exemplos ou aprofundar algum tópico específico sobre decoradores?**\n",
        "\n",
        "**Possíveis tópicos para explorar:**\n",
        "\n",
        "* Decoradores de classe\n",
        "* Decoradores com argumentos\n",
        "* Decoradores em frameworks como Flask e Django\n",
        "* Padrões de design com decoradores\n",
        "\n"
      ],
      "metadata": {
        "id": "o7nmxpqihr_l"
      }
    },
    {
      "cell_type": "code",
      "execution_count": 11,
      "metadata": {
        "colab": {
          "base_uri": "https://localhost:8080/"
        },
        "id": "xcwDPAm4hfo5",
        "outputId": "278ccd76-92cd-424c-a9da-d00efd446f4b"
      },
      "outputs": [
        {
          "output_type": "stream",
          "name": "stdout",
          "text": [
            "Antes da função\n",
            "Depois da função\n",
            "7\n"
          ]
        }
      ],
      "source": [
        "def meu_decorador(func):\n",
        "  def wrapper(*args, **kwargs):\n",
        "    print(\"Antes da função\")\n",
        "    resultado = func(*args, **kwargs)\n",
        "    print(\"Depois da função\")\n",
        "    return resultado\n",
        "  return wrapper\n",
        "\n",
        "@meu_decorador\n",
        "def minha_funcao(x, y):\n",
        "  return x + y\n",
        "\n",
        "resultado = minha_funcao(3, 4)\n",
        "print(resultado)\n"
      ]
    }
  ]
}